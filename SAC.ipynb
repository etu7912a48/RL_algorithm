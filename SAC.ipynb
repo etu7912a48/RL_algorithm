{
 "cells": [
  {
   "cell_type": "code",
   "execution_count": null,
   "metadata": {},
   "outputs": [],
   "source": [
    "import gym\n",
    "import numpy as np\n",
    "import tensorflow as tf\n",
    "\n",
    "from my_rl.agent import Agent, ReplayBuffer, Algorithm\n",
    "from my_rl.algorithms.sac import SAC"
   ]
  },
  {
   "cell_type": "code",
   "execution_count": null,
   "metadata": {},
   "outputs": [],
   "source": [
    "game_name = 'BipedalWalker-v3'\n",
    "\n",
    "# create env of the gam\n",
    "env = gym.make(game_name, render_mode=None)\n",
    "state_space = env.observation_space.shape[0]\n",
    "action_space = env.action_space.shape[0]\n",
    "action_scale = (env.action_space.high[0] - env.action_space.low[0])/2\n",
    "\n",
    "# create agent\n",
    "rb = ReplayBuffer(capacity=10000)\n",
    "alg = Algorithm(algorithm=SAC(action_dims=action_space))\n",
    "agent = Agent(replay_buffer=rb, algorithm=alg, action_scale=action_scale, state_space=state_space, action_space=action_space)"
   ]
  },
  {
   "cell_type": "code",
   "execution_count": null,
   "metadata": {},
   "outputs": [],
   "source": [
    "agent.replay_buffer.clear_memory()\n",
    "\n",
    "for episode in range(1000):\n",
    "    observation, _ = env.reset(return_info=True)\n",
    "    al_list = []\n",
    "    reward_list = []\n",
    "\n",
    "    for step in range(1000):\n",
    "        action = agent.sample_action(observation.reshape(1, state_space))\n",
    "        new_observation, reward, done, info = env.step(action)\n",
    "        reward_list.append(reward)\n",
    "        done = tf.cast(done, tf.float32)\n",
    "        agent.replay_buffer.add_data((tf.squeeze(observation), action, reward, done, tf.squeeze(new_observation)))\n",
    "\n",
    "        if agent.replay_buffer.enough_data:\n",
    "            loss = agent.train()\n",
    "            al_list.append(loss)\n",
    "\n",
    "        observation = new_observation.copy()\n",
    "\n",
    "        if done:\n",
    "            break\n",
    "\n",
    "    # report losses after every episode\n",
    "    if episode%1 == 0 and agent.replay_buffer.enough_data:\n",
    "        print(f'episode:{episode}, avg_al={tf.reduce_mean(al_list)} sum_r={tf.reduce_sum(reward_list)}')\n",
    "\n",
    "\n",
    "env.close()"
   ]
  },
  {
   "cell_type": "code",
   "execution_count": null,
   "metadata": {},
   "outputs": [],
   "source": [
    "env.close()"
   ]
  }
 ],
 "metadata": {
  "interpreter": {
   "hash": "182967ef90c96c3dd142793ad3099ce97eb8a262f09752ff7be3d3d6d379c1b1"
  },
  "kernelspec": {
   "display_name": "Python 3.10.0 ('venv': venv)",
   "language": "python",
   "name": "python3"
  },
  "language_info": {
   "codemirror_mode": {
    "name": "ipython",
    "version": 3
   },
   "file_extension": ".py",
   "mimetype": "text/x-python",
   "name": "python",
   "nbconvert_exporter": "python",
   "pygments_lexer": "ipython3",
   "version": "3.10.0"
  },
  "orig_nbformat": 4
 },
 "nbformat": 4,
 "nbformat_minor": 2
}
